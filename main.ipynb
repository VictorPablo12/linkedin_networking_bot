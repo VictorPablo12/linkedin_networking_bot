{
 "cells": [
  {
   "cell_type": "markdown",
   "metadata": {},
   "source": [
    "# AUTOMATING LINKEDIN NETWORKING"
   ]
  },
  {
   "cell_type": "code",
   "execution_count": null,
   "metadata": {},
   "outputs": [],
   "source": [
    "#Loading user credentials to log in\n",
    "\n",
    "with open('private/user.txt','r') as f: \n",
    "    user, password = f.read().split('\\n')"
   ]
  },
  {
   "cell_type": "markdown",
   "metadata": {},
   "source": [
    "### Importing required libraries:"
   ]
  },
  {
   "cell_type": "code",
   "execution_count": null,
   "metadata": {},
   "outputs": [],
   "source": [
    "# Selenium:\n",
    "from selenium import webdriver\n",
    "from webdriver_manager.chrome import ChromeDriverManager\n",
    "from selenium.webdriver.chrome.options import Options #Chromedriver optiones\n",
    "from selenium.webdriver.support.ui import WebDriverWait #Set wait time\n",
    "from selenium.webdriver.support import expected_conditions as EC #Wait for element to load\n",
    "from selenium.webdriver.common.by import By\n",
    "from selenium.webdriver.common.action_chains import ActionChains as AC\n",
    "\n",
    "\n",
    "#BeautifulSoup:\n",
    "\n",
    "import requests as req\n",
    "from bs4 import BeautifulSoup as bs\n",
    "from selenium.webdriver.chrome.service import Service\n",
    "\n",
    "#Miscellaneous:\n",
    "import time \n",
    "import regex as re\n",
    "\n",
    "#Chrome driver options:\n",
    "\n",
    "\n",
    "service = Service(executable_path=PATH) #Changed since Selenium 4.10.0\n",
    "opciones=Options()\n",
    "opciones.add_experimental_option('excludeSwitches', ['enable-automation'])\n",
    "#opciones.add_argument('--disable-blink-features=AutomationControlled')\n",
    "opciones.add_experimental_option('useAutomationExtension', False)\n",
    "#opciones.headless=False    \n",
    "opciones.add_argument('--start-maximized')\n",
    "opciones.add_argument('--incognito')               # incognito mode\n",
    "\n",
    "########################################################################################################################\n",
    "#usuario=UserAgent().random\n",
    "#opciones.add_argument(f'user-agent={usuario}')\n",
    "\n",
    "#opciones.add_argument(\"window-size=1366,768\") # tamaño de la ventana\n",
    "#opciones.add_argument(\"user-agent=Mozilla/5.0 (Windows NT 10.0; Win64; x64) AppleWebKit/537.36 (KHTML, like Gecko) Chrome/74.0.3729.169 Safari/537.36\") #Navegador\n",
    "#opciones.add_extension('driver/adblock.crx')       # adblocker#opciones.add_argument('--incognito')\n",
    "#opciones.add_extension('driver_folder/adblock.crx')\n",
    "#opciones.add_argument('user-data-dir=selenium')    # mantiene las cookies"
   ]
  },
  {
   "cell_type": "code",
   "execution_count": null,
   "metadata": {},
   "outputs": [],
   "source": [
    "PATH=ChromeDriverManager().install() #Installing last version of chromedriver\n",
    "\n",
    "URL='https://www.linkedin.com' #URL to login"
   ]
  },
  {
   "cell_type": "code",
   "execution_count": null,
   "metadata": {},
   "outputs": [],
   "source": [
    "# Initializing  Chrome driver & options\n",
    "driver = webdriver.Chrome(service=service, options=opciones)\n",
    "\n",
    "#driver=webdriver.Chrome(PATH, options=opciones) #Changed since Selenium 4.10.0"
   ]
  },
  {
   "cell_type": "markdown",
   "metadata": {},
   "source": []
  },
  {
   "cell_type": "markdown",
   "metadata": {},
   "source": [
    "### Browsing LinkedIn:"
   ]
  },
  {
   "cell_type": "code",
   "execution_count": null,
   "metadata": {},
   "outputs": [],
   "source": [
    "# Loading LinkedIn:\n",
    "driver.get(URL)\n",
    "time.sleep(1.5)\n",
    "\n",
    "# Closing cookies warning:\n",
    "driver.find_element(By.XPATH, '//*[@id=\"artdeco-global-alert-container\"]/div/section/div/div[2]/button[2]').click()\n",
    "\n",
    "#Filling User:\n",
    "time.sleep(1.5)\n",
    "driver.find_element(By.XPATH, '//*[@id=\"session_key\"]').send_keys(user)\n",
    "\n",
    "\n",
    "#Filling Password:\n",
    "time.sleep(2)\n",
    "driver.find_element(By.XPATH, '//*[@id=\"session_password\"]').send_keys(password)\n",
    "\n",
    "time.sleep(1)\n",
    "driver.find_element(By.CLASS_NAME, 'sign-in-form__submit-button').click()\n",
    "\n",
    "#Closin messages tab: (In case your linkedin account has a message tab, otherwise comment this block)\n",
    "messages_tab = WebDriverWait(driver,4).until( #Max wait 4 secs\n",
    "                EC.presence_of_element_located((By.XPATH,\n",
    "                '/html/body/div[7]/aside/div[1]/header/div[3]/button[2]'))) #Wait for element to load\n",
    "messages_tab.click()\n",
    "\n",
    "\n",
    "network_button = WebDriverWait(driver, 10).until( #Max wait 10 secs\n",
    "                EC.presence_of_element_located((By.ID, 'ember18'))) #Wait for element to load\n",
    "network_button.click()\n",
    "\n",
    "#Waiting for 'More suggestions block' to load and browsing to the end of the page:\n",
    "suggest_section = WebDriverWait(driver, 12).until( #Max wait 10 secs\n",
    "                EC.presence_of_element_located((By.CLASS_NAME, 'pb2'))) #Wait for element to load\n",
    "\n",
    "#Scroll and let page load 10 times:\n",
    "for scroll in range(0,15):\n",
    "    driver.execute_script('window.scrollTo(0, document.body.scrollHeight)')\n",
    "    time.sleep(1.5)\n",
    "    if not scroll:\n",
    "        first_contact = driver.execute_script(\"return document.body.scrollHeight\") #Get inital page height, to go backto it later\n",
    "\n",
    "time.sleep(1)\n",
    "  \n",
    "#Go back to the beginning of contacts:\n",
    "target = driver.find_element(By.CLASS_NAME, 'mn-discovery__header') #Point we want to scroll to\n",
    "target.location_once_scrolled_into_view\n",
    "\n",
    "\n",
    "#Beatiful Soup:\n",
    "soup = bs(driver.page_source, 'html.parser') #Loading page source\n",
    "contacts_seccion = soup.find('section',class_='pb2') #Section were more suggestions are located\n",
    "contacts_list = contacts_seccion.find_all('li') #List of contacts\n",
    "close_buttons = contacts_seccion.find_all('button',class_='artdeco-card__dismiss') #List of closing buttons\n",
    "connect_button = contacts_seccion.find_all('button', class_='artdeco-button--2') #List of connect buttons\n",
    "\n",
    "\n",
    "#List of contacts loaded, now we need to connect or dismiss them:\n",
    "\n",
    "add_counter = 0 #Counter for added contacts\n",
    "dismiss_counter = 0 #Counter for dismissed contacts\n",
    "\n",
    "for contact in range(0,len(contacts_list)): #Iterating over contacts list\n",
    "    try :\n",
    "        commons_string = contacts_list[contact].find('span',class_='member-insights__reason').text #String of common connections\n",
    "        common_contacts_num = int(re.search(r'\\d+', commons_string).group()) #Apply regex to get number of common connections\n",
    "        \n",
    "    except:\n",
    "        common_contacts_num = 0 #If there are no common connections, set number to 0\n",
    "    \n",
    "    if common_contacts_num > 50: #If common connections are more than 15, add to list\n",
    "        add_button_id = connect_button[contact].get('id') #Get element id\n",
    "        driver.find_element(By.ID, add_button_id).click()\n",
    "        close_button_id = close_buttons[contact].get('id') #Get element id\n",
    "        driver.find_element(By.ID, close_button_id).click()\n",
    "        add_counter += 1 #Add to counter\n",
    "        time.sleep(2)\n",
    "        \n",
    "    else:\n",
    "        target_item_id = close_buttons[contact].get('id') #Get element id\n",
    "        driver.find_element(By.ID, target_item_id).click()\n",
    "        dismiss_counter += 1 #Add to counter\n",
    "        time.sleep(2)\n",
    "print(f'Added {add_counter} contacts and dismissed {dismiss_counter} contacts\\n -->TOTAL: {add_counter+dismiss_counter}')\n",
    "driver.quit()"
   ]
  }
 ],
 "metadata": {
  "interpreter": {
   "hash": "4d7f37effd978c980551fd44ee854e32fa996577b4c3426a2d70d85603639086"
  },
  "kernelspec": {
   "display_name": "Python 3.9.7 ('ironhack')",
   "language": "python",
   "name": "python3"
  },
  "language_info": {
   "codemirror_mode": {
    "name": "ipython",
    "version": 3
   },
   "file_extension": ".py",
   "mimetype": "text/x-python",
   "name": "python",
   "nbconvert_exporter": "python",
   "pygments_lexer": "ipython3",
   "version": "3.11.3"
  },
  "orig_nbformat": 4
 },
 "nbformat": 4,
 "nbformat_minor": 2
}
